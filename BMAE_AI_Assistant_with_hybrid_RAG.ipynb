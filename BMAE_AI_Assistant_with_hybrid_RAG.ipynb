{
  "nbformat": 4,
  "nbformat_minor": 0,
  "metadata": {
    "colab": {
      "provenance": [],
      "mount_file_id": "1RftTGaPRQ4WlLUuHd-cNCDW65B1wUgjM",
      "authorship_tag": "ABX9TyNNwPy3DKDoGZPl2coxyqpw",
      "include_colab_link": true
    },
    "kernelspec": {
      "name": "python3",
      "display_name": "Python 3"
    },
    "language_info": {
      "name": "python"
    }
  },
  "cells": [
    {
      "cell_type": "markdown",
      "metadata": {
        "id": "view-in-github",
        "colab_type": "text"
      },
      "source": [
        "<a href=\"https://colab.research.google.com/github/dodeeric/langchain-ai-assistant-with-hybrid-rag/blob/main/BMAE_AI_Assistant_with_hybrid_RAG.ipynb\" target=\"_parent\"><img src=\"https://colab.research.google.com/assets/colab-badge.svg\" alt=\"Open In Colab\"/></a>"
      ]
    },
    {
      "cell_type": "markdown",
      "source": [
        "### AI Assistant (LLM Chatbot) with Hybrid RAG\n",
        "Hybrid RAG: keyword search (bm25) and semantic search (vector db)"
      ],
      "metadata": {
        "id": "uN1I_30g_aFm"
      }
    },
    {
      "cell_type": "markdown",
      "source": [
        "## Scape Web pages and save the result in JSON file"
      ],
      "metadata": {
        "id": "tm_zLVsh-276"
      }
    },
    {
      "cell_type": "code",
      "execution_count": null,
      "metadata": {
        "id": "Kei890_wuANp"
      },
      "outputs": [],
      "source": [
        "!pip install --upgrade --quiet bs4\n",
        "\n",
        "import requests, json, time\n",
        "from bs4 import BeautifulSoup"
      ]
    },
    {
      "cell_type": "code",
      "execution_count": null,
      "metadata": {
        "id": "uuDtjV1WyfyR"
      },
      "outputs": [],
      "source": [
        "# Function: Scrape Commons Summary = scs\n",
        "# Scrape the summary section and the metadata fields of a Wikimedia Commons web page.\n",
        "\n",
        "def scrape_commons_summary(url):\n",
        "    \"\"\"\n",
        "    Scrape the summary section and the metadata fields of a Wikimedia Commons web page.\n",
        "    Input: URL of the page\n",
        "    Output: JSON with: url: url, metadata: metadata, text: summary text\n",
        "    \"\"\"\n",
        "\n",
        "    # Get the HTML code\n",
        "    response = requests.get(url)\n",
        "    # Transform the HTML code from a Response object type into a BeautifulSoup object type to be scraped by Beautiful Soup\n",
        "    soup = BeautifulSoup(response.text, \"html.parser\")\n",
        "\n",
        "    # Get the Summary content which is in a specific table\n",
        "    content_table = soup.find('div', {'class': 'hproduct commons-file-information-table'})\n",
        "    # The actual summary text is within 'td' tags\n",
        "    summary_cells = content_table.find_all('td')\n",
        "    # Extract the text from each cell. The \\n is needed to avoid (key-value): v1 k2\\n v2 k3\\n v3 k4 ==> k1\\n v1\\n k2\\n v2\\n\n",
        "    summary = '\\n'.join([td.get_text() for td in summary_cells])\n",
        "    # Replace '\\n\\n' by '\\n' (remove empty lines):\n",
        "    while '\\n\\n' in summary:\n",
        "        summary = summary.replace('\\n\\n', '\\n')\n",
        "\n",
        "    # Get the metadata fields\n",
        "    metadata = {} # Empty dictionary\n",
        "    # Find all the meta tags in the HTML\n",
        "    meta_tags = soup.find_all(\"meta\")\n",
        "    # Loop through the meta tags\n",
        "    for tag in meta_tags:\n",
        "        property = tag.get(\"property\")\n",
        "        content = tag.get(\"content\")\n",
        "        # Add the property-content pair to the dictionary\n",
        "        if property and content:\n",
        "            metadata[property] = content\n",
        "\n",
        "    # Build JSON string with: url: url, metadata: metadata, text: summary text\n",
        "    # Create a dictionary\n",
        "    page = {\n",
        "        \"url\": url, # String\n",
        "        \"metadata\": metadata, # Dictionary\n",
        "        \"text\": summary # String\n",
        "    }\n",
        "    # Convert the dictionary to a JSON string\n",
        "    page_json = json.dumps(page)\n",
        "    # Convert in clear text (convert codes in text)\n",
        "    #page_json_clear_text = page_json.encode('utf-8').decode('unicode_escape')\n",
        "\n",
        "    return page_json"
      ]
    },
    {
      "cell_type": "code",
      "execution_count": null,
      "metadata": {
        "id": "pX4Rr4Lr8-2M"
      },
      "outputs": [],
      "source": [
        "# Scrape the URLs and save the results in a Python list\n",
        "\n",
        "file_path = \"/content/drive/MyDrive/colab/commons-urls-ds1\"\n",
        "\n",
        "with open(f\"{file_path}.txt\", \"r\") as url_file:\n",
        "    data = []\n",
        "    for line in url_file:\n",
        "        url = line.strip()\n",
        "        url = url.replace(\"\\ufeff\", \"\")  # Remove BOM\n",
        "        page_json = scrape_commons_summary(url)\n",
        "        data.append(page_json)\n",
        "        time.sleep(1)\n",
        "\n",
        "# Save the Python list in a JSON file. File name: xxx.txt --> xxx-scs.json\n",
        "with open(f\"{file_path}-scs.json\", \"w\") as output_file:\n",
        "        json.dump(data, output_file)"
      ]
    },
    {
      "cell_type": "code",
      "execution_count": null,
      "metadata": {
        "id": "AXt8lI13j5JA"
      },
      "outputs": [],
      "source": [
        "# Open the JSON file to check its content (will produce an error if it's not a correctly formated JSON file)\n",
        "with open(\"/content/drive/MyDrive/colab/commons-urls-ds1-scs.json\", \"r\") as file:\n",
        "    data_read = json.load(file)"
      ]
    },
    {
      "cell_type": "markdown",
      "source": [
        "## Index"
      ],
      "metadata": {
        "id": "nMRAdR5K-uQq"
      }
    },
    {
      "cell_type": "markdown",
      "source": [
        "Open the JSON file and embed the items in a Chroma vector DB."
      ],
      "metadata": {
        "id": "sPs_aAdrL4lR"
      }
    },
    {
      "cell_type": "code",
      "source": [
        "!pip install --upgrade --quiet jq langchain langchain-community langchain-openai langchain-chroma langchainhub rank_bm25\n",
        "\n",
        "import jq\n",
        "from google.colab import userdata\n",
        "from langchain_community.document_loaders import JSONLoader\n",
        "from langchain_openai import OpenAIEmbeddings\n",
        "from langchain_chroma import Chroma\n",
        "from langchain import hub\n",
        "from langchain_core.output_parsers import StrOutputParser\n",
        "from langchain_core.runnables import RunnablePassthrough\n",
        "from langchain_openai import ChatOpenAI\n",
        "from langchain.retrievers import BM25Retriever, EnsembleRetriever\n",
        "\n",
        "OPENAI_API_KEY = userdata.get(\"OPENAI_API_KEY\")\n",
        "LANGCHAIN_API_KEY = userdata.get(\"LANGCHAIN_API_KEY\")\n",
        "%env OPENAI_API_KEY = $OPENAI_API_KEY\n",
        "%env LANGCHAIN_API_KEY = $LANGCHAIN_API_KEY\n",
        "%env LANGCHAIN_TRACING_V2 = \"true\""
      ],
      "metadata": {
        "id": "5OY-ZM_lxM-5"
      },
      "execution_count": null,
      "outputs": []
    },
    {
      "cell_type": "code",
      "source": [
        "# Open the JSON file and parse/embed each item one by one\n",
        "\n",
        "file_path = \"/content/drive/MyDrive/colab/commons-urls-ds1-scs.json\"\n",
        "collection_name = \"bmae-json\"\n",
        "\n",
        "loader = JSONLoader(file_path=file_path, jq_schema=\".[]\", text_content=False)\n",
        "documents = loader.load() # Chunks (JSON item) from the JSON file\n",
        "\n",
        "embedding_model = OpenAIEmbeddings(model=\"text-embedding-3-large\") # 1536 dimenssions vectors used to embed the json items and the questions\n",
        "\n",
        "vector_db = Chroma.from_documents(documents, embedding_model, collection_name=collection_name, persist_directory=\"/content/drive/MyDrive/colab/chromadb2\")"
      ],
      "metadata": {
        "id": "PR-uONuCr7iu"
      },
      "execution_count": null,
      "outputs": []
    },
    {
      "cell_type": "markdown",
      "source": [
        "## Retrieve and generate"
      ],
      "metadata": {
        "id": "Ku0gOfeiro_t"
      }
    },
    {
      "cell_type": "code",
      "source": [
        "# LLM chatbot with a hybrid RAG chain:\n",
        "# (To embed the question, the same model is used as for the data; the model is given in \"vector_db\".)\n",
        "\n",
        "llm = ChatOpenAI(model=\"gpt-4-turbo-2024-04-09\", temperature=0.1)\n",
        "\n",
        "# Semantic search (vector retriever)\n",
        "vector_retriever = vector_db.as_retriever(search_type=\"similarity\", search_kwargs={\"k\": 6}) # Chroma DB\n",
        "\n",
        "# Keyword search (bm25 retriever)\n",
        "keyword_retriever = BM25Retriever.from_documents(documents)\n",
        "keyword_retriever.k = 6\n",
        "\n",
        "# Ensemble retriever (mix of both retrivers)\n",
        "ensemble_retriever = EnsembleRetriever(retrievers=[keyword_retriever, vector_retriever], weights=[0.5, 0.5])\n",
        "\n",
        "# Download prompt template (system prompt + context (rag documents) + user question)\n",
        "prompt = hub.pull(\"dodeeric/rag-prompt-bmae\")\n",
        "\n",
        "# Take the text content of each doc, and concatenate them in one string to pass to the prompt (context)\n",
        "def format_docs_clear_text(docs):\n",
        "    return \"\\n\\n\".join(doc.page_content.encode('utf-8').decode('unicode_escape') for doc in docs)\n",
        "\n",
        "# Function to display the text content of the prompt in ai_assistant_chain\n",
        "def print_and_pass(data):\n",
        "    print(f\"Prompt content sent to the LLM: {data}\")\n",
        "    return data\n",
        "\n",
        "ai_assistant_chain = (\n",
        "    {\"context\": ensemble_retriever | format_docs_clear_text, \"question\": RunnablePassthrough()}\n",
        "    | prompt\n",
        "    | print_and_pass\n",
        "    | llm\n",
        "    | StrOutputParser() # Convert to string\n",
        ")"
      ],
      "metadata": {
        "id": "EmX4A5jay8WO"
      },
      "execution_count": null,
      "outputs": []
    },
    {
      "cell_type": "markdown",
      "source": [
        "Querry the AI Assistant:"
      ],
      "metadata": {
        "id": "P_Vs5q4pAiWZ"
      }
    },
    {
      "cell_type": "code",
      "source": [
        "question = \"Pouvez-vous me montrer des portraits du roi Léopold Ier ?\""
      ],
      "metadata": {
        "id": "5iMV6D16T5y8"
      },
      "execution_count": null,
      "outputs": []
    },
    {
      "cell_type": "code",
      "source": [
        "ai_assistant_chain.invoke(question)"
      ],
      "metadata": {
        "id": "djaCokNX46hX",
        "colab": {
          "base_uri": "https://localhost:8080/",
          "height": 178
        },
        "outputId": "9c5e0399-1d4a-4013-95c4-f163ef4a8f0a"
      },
      "execution_count": null,
      "outputs": [
        {
          "output_type": "stream",
          "name": "stdout",
          "text": [
            "Prompt content sent to the LLM: messages=[SystemMessage(content='Instructions:\\n\\nYou are an artwork specialist. You must assist the users in finding, describing, and displaying artworks related to the Belgian monarchy. You first have to search answers in the \"Knowledge Base\". If no answers are found in the \"Knowledge Base\", then answer with your own knowledge. You have to answer in the same language as the question.\\n\\nAt the end of the answer: \\n- give a link to a web page about the artwork (see the \"url\" field).\\n- display an image of the artwork (see the \"og:image\" field).\\n- display the JSON item from the \"Knowledge Base\" in which you found the answer.\\n\\nKnowledge Base:\\n{\"url\": \"https://commons.wikimedia.org/wiki/File:L%C3%A9opold_II%2C_roi_des_Belges_-_Juste.jpg\", \"metadata\": {\"og:image\": \"https://upload.wikimedia.org/wikipedia/commons/thumb/c/ce/L%C3%A9opold_II%2C_roi_des_Belges_-_Juste.jpg/640px-L%C3%A9opold_II%2C_roi_des_Belges_-_Juste.jpg\", \"og:image:width\": \"640\", \"og:image:height\": \"962\", \"og:title\": \"File:Léopold II, roi des Belges - Juste.jpg - Wikimedia Commons\", \"og:type\": \"website\"}, \"text\": \"DescriptionLéopold II, roi des Belges - Juste.jpg\\nFrançais\\xa0:  S.M. le roi Léopold\\xa0II de Belgique. — Sur la chaise est brodé le monogramme (ou chiffre) du roi Léopold\\xa0II, composé de deux L, le tout est surmonté d’une couronne royale. Chromolithographie (G. Severeyns, successeur\\xa0: J.L. Goffart) hors-texte entre les pp.\\xa0324 et 325.\\nDate\\n1888\\nSource\\nThéodore Juste, Histoire de Belgique, tome\\xa0III, Bruylant-Christophe, Bruxelles, 1888, p.\\xa0324-325.\\nAuthor\\nG. Severeyns\\nTechniqueInfoField\\nchromolithographmedium QS:P186,Q1121337\\nSizeInfoField\\nheight: 19 cm (7.4 in); width: 13 cm (5.1 in)dimensions QS:P2048,19U174728dimensions QS:P2049,13U174728\\nInscriptionsInfoField\\nUnsigned\\nOriginal captionInfoField\\nLéopold\\xa0II, roi des Belges.\\nScanned byInfoField\\nÉric Dodémont (Dodeeric)\"}\\n\\n{\"url\": \"https://commons.wikimedia.org/wiki/File:Charles_Porion_-_The_kings_of_Europe_in_Paris_for_the_opening_of_the_Exposition_of_1867_(detail).jpg\", \"metadata\": {\"og:image\": \"https://upload.wikimedia.org/wikipedia/commons/thumb/7/73/Charles_Porion_-_The_kings_of_Europe_in_Paris_for_the_opening_of_the_Exposition_of_1867_%28detail%29.jpg/640px-Charles_Porion_-_The_kings_of_Europe_in_Paris_for_the_opening_of_the_Exposition_of_1867_%28detail%29.jpg\", \"og:image:width\": \"640\", \"og:image:height\": \"736\", \"og:title\": \"File:Charles Porion - The kings of Europe in Paris for the opening of the Exposition of 1867 (detail).jpg - Wikimedia Commons\", \"og:type\": \"website\"}, \"text\": \"DescriptionCharles Porion - The kings of Europe in Paris for the opening of the Exposition of 1867 (detail).jpg\\nEnglish:  The kings of Europe in Paris for the opening of the Universal Exposition of 1867\\nFrançais\\xa0:  Charles Porion, Napoléon III et les souverains étrangers invités à l\\'Exposition universelle de 1867 dit aussi Sortie des empereurs et des rois, 1895, huile sur toile, 1,65 m × 3,93 m, Château de Compiègne[1]. -- Le tableau de Charles Porion présente (de gauche à droite) François-Joseph Ier d\\'Autriche, Napoléon III, Alexandre II de Russie.\\nDate\\n1895\\nSource\\nSee here. (Archived 2024-01-23 at the Wayback Machine)\\nAuthor\\nCharles Porion\\n\\xa0(1814–1908)\\xa0\\xa0 \\xa0\\nAlternative names\\nLouis-Étienne-Charles Porion; Louis Étienne Charles Porion; Louis Etinne Charles Porion; Louis Etienne Charles Porion\\nDescription\\nFrench painter\\nDate of birth/death\\n1 May 1814\\xa0\\n1908\\xa0\\nLocation of birth/death\\nAmiens\\nParis\\nWork location\\nParis (1844–1868)\\xa0\\nAuthority file\\n: Q18711197\\nVIAF:\\u200941622707\\nULAN:\\u2009500185132\\nLCCN:\\u2009no2007084976\\nGND:\\u20091136596003\\nLéonore:\\u2009[ LH//2201/45]\\nWorldCat\\ncreator QS:P170,Q18711197\\nLouis-Étienne-Charles Porion; Louis Étienne Charles Porion; Louis Etinne Charles Porion; Louis Etienne Charles Porion\\nFrench painter\\n1 May 1814\\xa0\\n1908\\xa0\\nAmiens\\nParis\\nParis (1844–1868)\\xa0\\n: Q18711197\\nVIAF:\\u200941622707\\nULAN:\\u2009500185132\\nLCCN:\\u2009no2007084976\\nGND:\\u20091136596003\\nLéonore:\\u2009[ LH//2201/45]\\nWorldCat\\nOther versions\\nEnglish:  Entire painting\\n\"}\\n\\n{\"url\": \"https://commons.wikimedia.org/wiki/File:Charles_Porion_-_The_kings_of_Europe_in_Paris_for_the_opening_of_the_Exposition_of_1867.jpg\", \"metadata\": {\"og:image\": \"https://upload.wikimedia.org/wikipedia/commons/thumb/e/e7/Charles_Porion_-_The_kings_of_Europe_in_Paris_for_the_opening_of_the_Exposition_of_1867.jpg/640px-Charles_Porion_-_The_kings_of_Europe_in_Paris_for_the_opening_of_the_Exposition_of_1867.jpg\", \"og:image:width\": \"640\", \"og:image:height\": \"260\", \"og:title\": \"File:Charles Porion - The kings of Europe in Paris for the opening of the Exposition of 1867.jpg - Wikimedia Commons\", \"og:type\": \"website\"}, \"text\": \"Artist\\nCharles Porion\\n\\xa0(1814–1908)\\xa0\\xa0 \\xa0\\nAlternative names\\nLouis-Étienne-Charles Porion; Louis Étienne Charles Porion; Louis Etinne Charles Porion; Louis Etienne Charles Porion\\nDescription\\nFrench painter\\nDate of birth/death\\n1 May 1814\\xa0\\n1908\\xa0\\nLocation of birth/death\\nAmiens\\nParis\\nWork location\\nParis (1844–1868)\\xa0\\nAuthority file\\n: Q18711197\\nVIAF:\\u200941622707\\nULAN:\\u2009500185132\\nLCCN:\\u2009no2007084976\\nGND:\\u20091136596003\\nLéonore:\\u2009[ LH//2201/45]\\nWorldCat\\ncreator QS:P170,Q18711197\\xa0\\nCharles Porion\\n\\xa0(1814–1908)\\xa0\\xa0 \\xa0\\nAlternative names\\nLouis-Étienne-Charles Porion; Louis Étienne Charles Porion; Louis Etinne Charles Porion; Louis Etienne Charles Porion\\nDescription\\nFrench painter\\nDate of birth/death\\n1 May 1814\\xa0\\n1908\\xa0\\nLocation of birth/death\\nAmiens\\nParis\\nWork location\\nParis (1844–1868)\\xa0\\nAuthority file\\n: Q18711197\\nVIAF:\\u200941622707\\nULAN:\\u2009500185132\\nLCCN:\\u2009no2007084976\\nGND:\\u20091136596003\\nLéonore:\\u2009[ LH//2201/45]\\nWorldCat\\ncreator QS:P170,Q18711197\\nLouis-Étienne-Charles Porion; Louis Étienne Charles Porion; Louis Etinne Charles Porion; Louis Etienne Charles Porion\\nFrench painter\\n1 May 1814\\xa0\\n1908\\xa0\\nAmiens\\nParis\\nParis (1844–1868)\\xa0\\n: Q18711197\\nVIAF:\\u200941622707\\nULAN:\\u2009500185132\\nLCCN:\\u2009no2007084976\\nGND:\\u20091136596003\\nLéonore:\\u2009[ LH//2201/45]\\nWorldCat\\n\\xa0\\nTitle\\nThe kings of Europe in Paris for the opening of the Universal Exposition of 1867label QS:Len,\"The kings of Europe in Paris for the opening of the Universal Exposition of 1867\"\\nlabel QS:Lfr,\"Les souverains d\\'Europe venus à Paris pour l\\'ouverture de l\\'exposition universelle de 1867\"\\nlabel QS:Lnl,\"De koningen van Europa in Parijs voor de opening van de Wereldtentoonstelling van 1867\"\\nObject type\\npainting\\xa0\\nDescription\\nEnglish:  The kings of Europe in Paris for the opening of the Universal Exposition of 1867. -- In the first row, from left to right: Leopold II, King of the Belgians (1865-1909) - William I, King of Prussia (1861-1888) - Franz Joseph I, Emperor of Austria (1848-1916) and King of Hungary (1867-1916) - Napoléon III, Emperor of the French (1852-1870) - Alexander II, Emperor of Russia (1855-1881) - Abdulaziz, Sultan of the Ottoman Empire (1861-1876) - Charles XV, King of Sweden (1859-1872). In the second row, from left to right: Francis of Assisi of Bourbon, King consort of Spain (1822-1902) - William of Orange, Crown Prince of the Netherlands (1840-1879) - Otto von Bismarck, Minister-President of Prussia (1862-1870) - Frederick William of Hohenzollern, Crown Prince of Prussia (Frederick III, King of Prussia and German Emperor, 1888) - Edward, Prince of Wales (Edward VII, King of the United Kingdom and Emperor of India, 1901-1910) - Prince Napoleon, cousin of Napoleon III (1822-1891) - Tsarevich Alexander (Alexander III, Tsar of Russia, 1881-1894) - Humbert, Duke of Aosta (Humbert I, King of Italy, 1878-1900) - George I, King of the Hellenes (1863-1913) - Charles-Alexandre, King of Württemberg (1864-1891) - Ismaïl Pasha, viceroy of Egypt (1863-1879). In the third row, from left to right: Marshal Canrobert (1809-1895) - General Fleury (1815-1884) - Marshal de Mac Mahon, Duke of Magenta (1808-1893, President of the Republic from 1873 to 1879) - Prince Frederick-Charles of Prussia, general and nephew of William I (1828-1885) - unidentified person - General Cousin-Montauban, Count of Palikao (1796-1878) - Marshal Forey (1804-1872) - Marshal Randon (1795-1871), Minister of War - Marshal Bazaine (1811-1888) - Marshal Niel (1802-1869).[1]\\nFrançais\\xa0:  Charles Porion, Napoléon III et les souverains étrangers invités à l\\'Exposition universelle de 1867 dit aussi Sortie des empereurs et des rois, 1895, huile sur toile, 1,65 m × 3,93 m, Château de Compiègne[2]. -- L\\'Exposition Universelle de 1867 s\\'est déroulée du 1er avril au 3 novembre 1867. Les souverains et princes ne sont pas tous venus en même temps, mais la peinture les représente tous réunis autour de Napoléon III devant les Tuileries. Le tableau présente (de gauche à droite) Léopold II de Belgique, Guillaume Ier de Prusse, François-Joseph Ier d\\'Autriche, Napoléon III, Alexandre II de Russie, Ismaïl Pacha, vice-roi d\\'Égypte, Charles XV de Suède et Norvège.\\nDate\\n1895\\xa0\\nMedium\\noil  on  canvas\\xa0\\nDimensions\\nheight: 165 cm (64.9 in)\\xa0; width: 393 cm (12.8 ft)\\xa0dimensions QS:P2048,+165U174728dimensions QS:P2049,+393U174728\\nCollection\\nChâteau de Compiègne\\n\\xa0\\xa0\\nNative name\\nChâteau de Compiègne\\nLocation\\nCompiègne dans l\\'Oise (Nord-Pas-de-Calais-Picardie, France)\\nCoordinates\\n49°\\xa025′\\xa009″\\xa0N, 2°\\xa049′\\xa052″\\xa0E  \\xa0\\nEstablished\\n1751-1788:  built\\nAuthority file\\n: Q516697\\nVIAF:\\u2009150854014\\nISNI:\\u20090000000119422383\\nLCCN:\\u2009nr88003801\\nOSM:\\u2009194640\\nGND:\\u20091049711-0\\nWorldCat\\ninstitution QS:P195,Q516697\\nNative name\\nChâteau de Compiègne\\nLocation\\nCompiègne dans l\\'Oise (Nord-Pas-de-Calais-Picardie, France)\\nCoordinates\\n49°\\xa025′\\xa009″\\xa0N, 2°\\xa049′\\xa052″\\xa0E  \\xa0\\nEstablished\\n1751-1788:  built\\nAuthority file\\n: Q516697\\nVIAF:\\u2009150854014\\nISNI:\\u20090000000119422383\\nLCCN:\\u2009nr88003801\\nOSM:\\u2009194640\\nGND:\\u20091049711-0\\nWorldCat\\nSource/Photographer\\nSee here. (Archived 2024-01-23 at the Wayback Machine)\\nOther versions\\nEnglish:  Detail\\n\"}\\n\\n{\"url\": \"https://commons.wikimedia.org/wiki/File:Av%C3%A8nement_de_L%C3%A9opold_II_devant_le_palais_de_la_Nation.jpg\", \"metadata\": {\"og:image\": \"https://upload.wikimedia.org/wikipedia/commons/thumb/6/69/Av%C3%A8nement_de_L%C3%A9opold_II_devant_le_palais_de_la_Nation.jpg/640px-Av%C3%A8nement_de_L%C3%A9opold_II_devant_le_palais_de_la_Nation.jpg\", \"og:image:width\": \"640\", \"og:image:height\": \"450\", \"og:title\": \"File:Avènement de Léopold II devant le palais de la Nation.jpg - Wikimedia Commons\", \"og:type\": \"website\"}, \"text\": \"DescriptionAvènement de Léopold II devant le palais de la Nation.jpg\\nFrançais\\xa0:  Arrivée de Léopold\\xa0II devant le Palais de la Nation le jour de son avènement, Bruxelles, le 17 décembre 1865. — Léopold est escorté à cheval par son état-major, par son frère Philippe, comte de Flandre, et par l’archiduc Joseph d’Autriche, frère de la Reine, dans le cortège qui le mène du château de Laeken au Palais de la Nation (Parlement). À midi et demi, Léopold arrive au Palais de la Nation, où aura lieu la prestation du serment constitutionnel. La garde civique et les troupes de la garnison sont sous les armes dans les rues par lesquelles le Roi est passé. Le bataillon des chasseurs-éclaireurs, la batterie d’artillerie de la garde civique de Bruxelles, les blessés et les décorés de septembre 1830 occupent l’entrée du Palais de la Nation.\\nDate\\ncirca 1865date QS:P,+1865-00-00T00:00:00Z/9,P1480,Q5727902\\nSource\\nLe Monde chrétien illustré (France), p.\\xa0289.\\nAuthor\\ndrawer: \\nFrédéric Théodore Lix\\n\\xa0(1830–1897)\\xa0\\xa0 \\xa0\\nAlternative names\\nFrédéric-Théodore Lix\\nDescription\\nFrench painter and illustrator\\nDate of birth/death\\n18 December 1830\\xa0\\n23 February 1897\\xa0\\nLocation of birth/death\\nStrasbourg\\nParis\\nWork location\\nStrasbourg; Paris\\xa0\\nAuthority file\\n: Q13099283\\nVIAF:\\u200937000041\\nISNI:\\u20090000000001931406\\nULAN:\\u2009500041043\\nLCCN:\\u2009nr91000606\\nGND:\\u2009134174682\\nWorldCat\\ncreator QS:P170,Q13099283\\nengraver: \\nAuguste Trichon\\n\\xa0(1814–1898)\\xa0\\xa0 \\xa0\\nAlternative names\\nFrançois Auguste Trichon\\nDescription\\nFrench engraver, wood engraver, painter and printmaker\\nDate of birth/death\\n1 November 1814\\xa0\\n14 September 1898\\xa0\\nLocation of birth\\nParis\\nWork period\\n1880\\xa0\\nAuthority file\\n: Q18068556\\nVIAF:\\u200929390779\\nISNI:\\u20090000000078215790\\nLCCN:\\u2009nr91028217\\nNLA:\\u200935547699\\nGND:\\u200913245498X\\nWorldCat\\ncreator QS:P170,Q18068556\\nFrédéric-Théodore Lix\\nFrench painter and illustrator\\n18 December 1830\\xa0\\n23 February 1897\\xa0\\nStrasbourg\\nParis\\nStrasbourg; Paris\\xa0\\n: Q13099283\\nVIAF:\\u200937000041\\nISNI:\\u20090000000001931406\\nULAN:\\u2009500041043\\nLCCN:\\u2009nr91000606\\nGND:\\u2009134174682\\nWorldCat\\nFrançois Auguste Trichon\\nFrench engraver, wood engraver, painter and printmaker\\n1 November 1814\\xa0\\n14 September 1898\\xa0\\nParis\\n1880\\xa0\\n: Q18068556\\nVIAF:\\u200929390779\\nISNI:\\u20090000000078215790\\nLCCN:\\u2009nr91028217\\nNLA:\\u200935547699\\nGND:\\u200913245498X\\nWorldCat\\nTechniqueInfoField\\nwood engraving print\\nSizeInfoField\\nheight: 17 cm (6.6 in); width: 24 cm (9.4 in)dimensions QS:P2048,17U174728dimensions QS:P2049,24U174728\\nInscriptionsInfoField\\nSignature bottom left:  \\nLIX\\nSignature bottom right:  \\nTRICHON\\nOriginal captionInfoField\\nLéopold\\xa0II se rendant au palais de la Nation.\\nScanned byInfoField\\nÉric Dodémont (Dodeeric)\"}\\n\\n{\"url\": \"https://commons.wikimedia.org/wiki/File:Noces_d%E2%80%99argent_du_roi_L%C3%A9opold_II_et_de_la_reine_Marie-Henriette_en_1878.jpg\", \"metadata\": {\"og:image\": \"https://upload.wikimedia.org/wikipedia/commons/thumb/a/a3/Noces_d%E2%80%99argent_du_roi_L%C3%A9opold_II_et_de_la_reine_Marie-Henriette_en_1878.jpg/640px-Noces_d%E2%80%99argent_du_roi_L%C3%A9opold_II_et_de_la_reine_Marie-Henriette_en_1878.jpg\", \"og:image:width\": \"640\", \"og:image:height\": \"432\", \"og:title\": \"File:Noces d’argent du roi Léopold II et de la reine Marie-Henriette en 1878.jpg - Wikimedia Commons\", \"og:type\": \"website\"}, \"text\": \"DescriptionNoces d’argent du roi Léopold II et de la reine Marie-Henriette en 1878.jpg\\nEnglish:  Presentation of the gift to the Queen during the twenty-fifth wedding anniversary of King Leopold\\xa0II of Belgium and Queen Marie Henriette, Royal Palace (Brussels), 22 August 1878.\\nFrançais\\xa0:  Présentation du cadeau à la Reine lors des noces d’argent du roi Léopold\\xa0II de Belgique et de la reine Marie-Henriette, Palais royal (Bruxelles), le 22 août 1878. — Pour les 25\\xa0 ans de mariage du Roi et de la Reine, les dames belges, désignées par les communes, offrent à la Reine un magnifique diadème, orné de deux mille trois cents pierres précieuses et une traîne en dentelles de Bruxelles. Pour cette occasion, une souscription recueillie en quelques jours avait réuni 100\\xa0000 francs. Le diadème et la traîne de dentelles avait été préalablement exposé à l’hôtel de ville du 18 au 21 juillet. À l’occasion des noces d’argents, des fêtes furent célébrées à Bruxelles les 22, 23, 24 et 25\\xa0août. Le Roi est en uniforme de lieutenant-général (grande tenue à pied), le comte de Flandre en uniforme de lieutenant-général de la cavalerie (grande tenue à cheval). Deuxième à la droite du Roi, en uniforme civil et portant des lunettes, le bourgmestre de Bruxelles, Jules Anspach. À l’extrême droite, en uniforme civil, on reconnait Walthère Frère-Orban, chef de cabinet depuis le 19 juin 1878. Ils portent tous le ruban de grand cordon de l’ordre de Léopold.\\nNederlands:  Presentatie van het geschenk aan de koningin tijdens de vijfentwintigste huwelijksverjaardag van koning Leopold\\xa0II van België en koningin Marie Henriëtte, Koninklijk Paleis (Brussel), 22 augustus 1878.\\nDate\\n1878\\nSource\\nLe Monde illustré (France), 7 September 1878, p.\\xa0148.\\nAuthor\\ndrawer:\\nGustave Janet\\n\\xa0(1829–1898)\\xa0\\xa0 \\xa0\\nAlternative names\\nJanet\\nDescription\\nFrench drawer\\nDate of birth/death\\n10 January 1829\\xa0\\n2 April 1898\\xa0\\nLocation of birth/death\\nformer 10th arrondissement of Paris\\nUnknown\\nAuthority file\\n: Q18508256\\nVIAF:\\u200991524218\\nISNI:\\u20090000000109241714\\nULAN:\\u2009500148102\\nLCCN:\\u2009nr92026023\\nNLA:\\u200935115829\\nWorldCat\\ncreator QS:P170,Q18508256\\nengraver:\\nHippolyte Constant Dutheil\\n\\xa0(1842–1917)\\xa0\\xa0 \\xa0\\nDescription\\nFrench wood engraver\\nDate of birth/death\\n21 July 1842\\xa0\\n1 April 1917\\xa0\\nLocation of birth/death\\nParis\\nParis\\nAuthority file\\n: Q97577418\\nVIAF:\\u2009216145003298661300110\\nISNI:\\u20090000000057664618\\nSUDOC:\\u2009189346558\\nBNF:\\u200915964099h\\ncreator QS:P170,Q97577418\\nAfter (sketch):\\nLeo von Elliot\\n\\xa0(1816–1890)\\xa0\\xa0 \\xa0\\nDescription\\npainter\\nDate of birth/death\\n16 October 1816\\xa0\\n11 July 1890\\xa0\\nAuthority file\\n: Q19289081\\nVIAF:\\u200969801882\\nISNI:\\u20090000000047399777\\nLCCN:\\u2009no2001088974\\nGND:\\u2009122118413\\nBNF:\\u200916173882q\\nWorldCat\\ncreator QS:P170,Q19289081\\nJanet\\nFrench drawer\\n10 January 1829\\xa0\\n2 April 1898\\xa0\\nformer 10th arrondissement of Paris\\nUnknown\\n: Q18508256\\nVIAF:\\u200991524218\\nISNI:\\u20090000000109241714\\nULAN:\\u2009500148102\\nLCCN:\\u2009nr92026023\\nNLA:\\u200935115829\\nWorldCat\\nFrench wood engraver\\n21 July 1842\\xa0\\n1 April 1917\\xa0\\nParis\\nParis\\n: Q97577418\\nVIAF:\\u2009216145003298661300110\\nISNI:\\u20090000000057664618\\nSUDOC:\\u2009189346558\\nBNF:\\u200915964099h\\npainter\\n16 October 1816\\xa0\\n11 July 1890\\xa0\\n: Q19289081\\nVIAF:\\u200969801882\\nISNI:\\u20090000000047399777\\nLCCN:\\u2009no2001088974\\nGND:\\u2009122118413\\nBNF:\\u200916173882q\\nWorldCat\\nOther versions\\nFrançais\\xa0:  Scan original\\nFrançais\\xa0:  Gravure traitée graphiquement\\nFrançais\\xa0:  Version colorisée\\nTechniqueInfoField\\nwood engraving print\\nSizeInfoField\\nheight: 21 cm (8.2 in); width: 31 cm (12.2 in)dimensions QS:P2048,21U174728dimensions QS:P2049,31U174728\\nInscriptionsInfoField\\nSignature bottom left:  \\nG Janet\\nSignature bottom right:  \\nH DUTHEIL\\nOriginal captionInfoField\\nBruxelles. Les noces d’argent du roi et de la reine des Belges. La présentation du cadeau à la reine par les dames déléguées des provinces. Dessin de M. Gustave Janet, d’après le croquis de M. von Elliot.\\nScanned byInfoField\\nÉric Dodémont (Dodeeric)\"}\\n\\n{\"url\": \"https://commons.wikimedia.org/wiki/File:L%C3%A9opold_Ier%2C_roi_des_Belges%2C_d%27apr%C3%A8s_De_Winne.jpg\", \"metadata\": {\"og:image\": \"https://upload.wikimedia.org/wikipedia/commons/thumb/8/8d/L%C3%A9opold_Ier%2C_roi_des_Belges%2C_d%27apr%C3%A8s_De_Winne.jpg/640px-L%C3%A9opold_Ier%2C_roi_des_Belges%2C_d%27apr%C3%A8s_De_Winne.jpg\", \"og:image:width\": \"640\", \"og:image:height\": \"1206\", \"og:title\": \"File:Léopold Ier, roi des Belges, d\\'après De Winne.jpg - Wikimedia Commons\", \"og:type\": \"website\"}, \"text\": \"DescriptionLéopold Ier, roi des Belges, d\\'après De Winne.jpg\\nH.M. the King Leopold\\xa0I of Belgium. — The King wears the horseback full dress of lieutenant general.\\nTypeInfoField\\nWood engraving of 31 cm (h) × 16 cm (w).\\nDate\\n1880\\nSource\\nL’Illustration nationale (Belgium), January 1880, p.\\xa05.\\nAuthor\\nEngraving from: \\nFrançois Pannemaker\\n\\xa0(1822–1900)\\xa0\\xa0\\xa0 \\xa0\\nAlternative names\\nAdolphe-François Pannemaker\\nDescription\\nBelgian engraver\\nDate of birth/death\\n30 July 1822\\xa0\\n9 February 1900\\xa0\\nLocation of birth/death\\nBrussels metropolitan area\\nParis\\nWork location\\nCity of Brussels (1836–1843); Paris (1855–1900); City of Brussels (1845–1855); Paris (1843–1845); Paris (1861)\\xa0\\nAuthority file\\n: Q3085503\\nVIAF:\\u2009288761467\\nISNI:\\u20090000000394340948\\nULAN:\\u2009500049561\\nLCCN:\\u2009nr90027015\\nGND:\\u2009129803677\\nWorldCat\\ncreator QS:P170,Q3085503\\nAfter a painting (1860) from: \\nLievin de Winne\\n\\xa0(1821–1880)\\xa0\\xa0 \\xa0\\nAlternative names\\nLeévin de Winne; Lievin De Winne; Liévin De Winne; Liévin de Winne; Leevin de Winne; Liéven De Winne\\nDescription\\nBelgian painter\\nDate of birth/death\\n24 January 1821\\xa0\\n13 May 1880\\xa0\\nLocation of birth/death\\nGhent\\nCity of Brussels\\nWork location\\nGhent, Paris (1852-1855)\\nAuthority file\\n: Q713128\\nVIAF:\\u200995959495\\nISNI:\\u20090000000069134913\\nULAN:\\u2009500042641\\nGND:\\u2009174289618\\nRKD:\\u200921172\\ncreator QS:P170,Q713128\\nAdolphe-François Pannemaker\\nBelgian engraver\\n30 July 1822\\xa0\\n9 February 1900\\xa0\\nBrussels metropolitan area\\nParis\\nCity of Brussels (1836–1843); Paris (1855–1900); City of Brussels (1845–1855); Paris (1843–1845); Paris (1861)\\xa0\\n: Q3085503\\nVIAF:\\u2009288761467\\nISNI:\\u20090000000394340948\\nULAN:\\u2009500049561\\nLCCN:\\u2009nr90027015\\nGND:\\u2009129803677\\nWorldCat\\nLeévin de Winne; Lievin De Winne; Liévin De Winne; Liévin de Winne; Leevin de Winne; Liéven De Winne\\nBelgian painter\\n24 January 1821\\xa0\\n13 May 1880\\xa0\\nGhent\\nCity of Brussels\\nGhent, Paris (1852-1855)\\n: Q713128\\nVIAF:\\u200995959495\\nISNI:\\u20090000000069134913\\nULAN:\\u2009500042641\\nGND:\\u2009174289618\\nRKD:\\u200921172\\nOther versions\\nFile:King Leopold I by Liévin De Winne 1868.jpg\\nPainting copied to realise the engraving.\\nFile:King Leopold I by Liévin De Winne 1868.jpg\\nPainting copied to realise the engraving.\\nScanInfoField\\nOriginal engraving scanned by Éric Dodémont (Dodeeric).\"}\\n\\n{\"url\": \"https://commons.wikimedia.org/wiki/File:L%C3%A9opold_Ier%2C_roi_des_Belges%2C_d%27apr%C3%A8s_Winterhalter.jpg\", \"metadata\": {\"og:image\": \"https://upload.wikimedia.org/wikipedia/commons/thumb/3/3f/L%C3%A9opold_Ier%2C_roi_des_Belges%2C_d%27apr%C3%A8s_Winterhalter.jpg/640px-L%C3%A9opold_Ier%2C_roi_des_Belges%2C_d%27apr%C3%A8s_Winterhalter.jpg\", \"og:image:width\": \"640\", \"og:image:height\": \"944\", \"og:title\": \"File:Léopold Ier, roi des Belges, d\\'après Winterhalter.jpg - Wikimedia Commons\", \"og:type\": \"website\"}, \"text\": \"DescriptionLéopold Ier, roi des Belges, d\\'après Winterhalter.jpg\\nFrançais\\xa0:  S.M. le roi Léopold\\xa0Ier de Belgique. — Le Roi porte l’uniforme de colonel des cuirassiers.\\nTypeInfoField\\nGravure frontispice de 19\\xa0cm (h) × 13\\xa0cm (l).\\nDate\\n1854\\nSource\\nThéodore Juste, Histoire de Belgique, tome\\xa0II, Alexandre Jamar, Bruxelles, 1854.\\nAuthor\\nHenri Hendrickx.Henry Brown.\\nAfter Franz Xaver Winterhalter\\n\\xa0(1805–1873)\\xa0\\xa0 \\xa0\\nDescription\\nGerman- painter, lithographer, drawer and portrait painter\\nDate of birth/death\\n20 April 1805\\xa0\\n8 July 1873\\xa0\\nLocation of birth/death\\nMenzenschwand\\nFrankfurt\\nWork period\\n1863\\xa0\\nWork location\\nParis; Belgium; Freiburg im Breisgau; Karlsruhe; Munich; Kingdom of Italy; Russia; Spain; United Kingdom of Great Britain and Ireland\\xa0\\nAuthority file\\n: Q168659\\nVIAF:\\u200936949805\\nISNI:\\u20090000000116211257\\nULAN:\\u2009500007953\\nLCCN:\\u2009nr88006766\\nWGA:\\u2009w/winterhx\\nWorldCat\\ncreator QS:P170,Q4233718,P1877,Q168659\\nGerman- painter, lithographer, drawer and portrait painter\\n20 April 1805\\xa0\\n8 July 1873\\xa0\\nMenzenschwand\\nFrankfurt\\n1863\\xa0\\nParis; Belgium; Freiburg im Breisgau; Karlsruhe; Munich; Kingdom of Italy; Russia; Spain; United Kingdom of Great Britain and Ireland\\xa0\\n: Q168659\\nVIAF:\\u200936949805\\nISNI:\\u20090000000116211257\\nULAN:\\u2009500007953\\nLCCN:\\u2009nr88006766\\nWGA:\\u2009w/winterhx\\nWorldCat\\nOther versions\\nFile:1840 portrait of King Leopold I (King of the Belgians) by Winterhalter.jpg\\nPeinture copiée pour réaliser la gravure.\\nFile:1840 portrait of King Leopold I (King of the Belgians) by Winterhalter.jpg\\nPeinture copiée pour réaliser la gravure.\\nScanInfoField\\nGravure originale scannée par Éric Dodémont (Dodeeric).\"}\\n\\n{\"url\": \"https://commons.wikimedia.org/wiki/File:La_f%C3%AAte_patriotique_du_cinquantenaire_de_l%E2%80%99ind%C3%A9pendance_belge_en_1880.jpg\", \"metadata\": {\"og:image\": \"https://upload.wikimedia.org/wikipedia/commons/thumb/f/f6/La_f%C3%AAte_patriotique_du_cinquantenaire_de_l%E2%80%99ind%C3%A9pendance_belge_en_1880.jpg/640px-La_f%C3%AAte_patriotique_du_cinquantenaire_de_l%E2%80%99ind%C3%A9pendance_belge_en_1880.jpg\", \"og:image:width\": \"640\", \"og:image:height\": \"423\", \"og:title\": \"File:La fête patriotique du cinquantenaire de l’indépendance belge en 1880.jpg - Wikimedia Commons\", \"og:type\": \"website\"}, \"text\": \"DescriptionLa fête patriotique du cinquantenaire de l’indépendance belge en 1880.jpg\\nEnglish:  The patriotic celebration of the fiftieth anniversary of the Belgian independence, Parc du Cinquantenaire (Brussels), 16 August 1880. — Reading of the speech to the King before the parade of flags. We can see King Leopold\\xa0II and Queen Marie-Henriette in the center. — There is a painting of this event, painted in 1890 by Camille Van Camp entitled “Patriotic Celebration of the Fiftieth anniversary of the Belgian Independence” (House of Representatives, Brussels).\\nFrançais\\xa0:  La fête patriotique du cinquantenaire de l’indépendance belge, Parc du Cinquantenaire (Bruxelles), le 16 août 1880. — On aperçoit le roi Léopold\\xa0II et la reine Marie-Henriette au centre. — Il existe une peinture représentant cet événement, peinte en 1890 par Camille Van Camp et intitulée  «\\xa0Fête patriotique du cinquantenaire de l’indépendance belge\\xa0» (Chambre des Représentants, Bruxelles).\\nNederlands:  De patriottische viering van de vijftigste verjaardag van de Belgische onafhankelijkheid, Jubelpark (Brussel), 16 augustus 1880.\\nDate\\n1880\\nSource\\nL’Illustration nationale (Belgium), 5 September 1880, p.\\xa04-5.\\nAuthor\\ndrawer: Martin Claverie.\\nOther versions\\nFrançais\\xa0:  Scan original\\nFrançais\\xa0:  Gravure entière\\nFrançais\\xa0:  Version colorisée\\nFrançais\\xa0:  Camille Van Camp\\xa0: La fête patriotique du cinquantenaire de l’indépendance belge, le 16 août 1880, huile sur toile, 1890.\\nTechniqueInfoField\\nwood engraving print\\nSizeInfoField\\nheight: 20 cm (7.8 in); width: 30 cm (11.8 in)dimensions QS:P2048,20U174728dimensions QS:P2049,30U174728\\nInscriptionsInfoField\\nSignature bottom left:  \\nCLAVERIE (Not visible on the scan)\\nOriginal captionInfoField\\nLa fête patriotique du 16 août 1880. 1.\\xa0Dans le parc\\xa0: distribution des médailles aux bourgmestres de Belgique. 2.\\xa0L’ovation à Rogier. 3.\\xa0Types de ghildes pris dans le parc. 4.\\xa0Lecture de l’adresse au Roi avant le défilé des drapeaux. 5.\\xa0L’illumination de la place du Congrès, le 17 août. 6.\\xa0Le vieux Sauvelon, porte-drapeau des volontaires de Fleurus.\\nScanned byInfoField\\nÉric Dodémont (Dodeeric)\"}\\n\\n{\"url\": \"https://commons.wikimedia.org/wiki/File:L%C3%A9opold%2C_duc_de_Brabant_-_Bocourt.jpg\", \"metadata\": {\"og:image\": \"https://upload.wikimedia.org/wikipedia/commons/thumb/e/e5/L%C3%A9opold%2C_duc_de_Brabant_-_Bocourt.jpg/640px-L%C3%A9opold%2C_duc_de_Brabant_-_Bocourt.jpg\", \"og:image:width\": \"640\", \"og:image:height\": \"725\", \"og:title\": \"File:Léopold, duc de Brabant - Bocourt.jpg - Wikimedia Commons\", \"og:type\": \"website\"}, \"text\": \"DescriptionLéopold, duc de Brabant - Bocourt.jpg\\nEnglish:  H.R.H. Prince Leopold of Belgium, Duke of Brabant, future King Leopold\\xa0II of Belgium. — The prince wears the full dress of lieutenant general and the decorations of Knight of the Order of the Golden Fleece (neck insignia) and the Grand Cordon of the Order of Leopold (sash and star above).\\nFrançais\\xa0:  S.A.R. le prince Léopold de Belgique, duc de Brabant, futur roi Léopold\\xa0II de Belgique. — Le prince porte la grande tenue de lieutenant-général et les décorations de chevalier de l’ordre de la Toison d’or (en sautoir) et de grand cordon de l’ordre de Léopold (ruban en écharpe et étoile en haut).\\nDate\\n1865\\nSource\\nLe Monde illustré (France), 16 December 1865, p. 385.\\nAuthor\\ndrawer: \\nÉtienne-Gabriel Bocourt\\n\\xa0(1821–1913)\\xa0\\xa0 \\xa0\\nAlternative names\\nÉtienne-Gabriel Bocourt\\nDescription\\nFrench drawer, illustrator and engraver\\nDate of birth/death\\n24 August 1821\\xa0\\n4 July 1913\\xa0\\nLocation of birth/death\\nParis\\nUnknown\\nAuthority file\\n: Q15407082\\nVIAF:\\u2009221467553\\nISNI:\\u20090000000359812778\\nULAN:\\u2009500050061\\nGND:\\u2009102312370\\nSUDOC:\\u2009143480235\\ncreator QS:P170,Q15407082\\nengraver: \\nPierre Verdeil\\n\\xa0(1812–)\\xa0\\xa0 \\xa0\\nDescription\\nFrench engraver and illustrator\\nDate of birth/death\\nFebruary 1812\\xa0\\nafter 1874date QS:P,+1874-00-00T00:00:00Z/7,P1319,+1874-00-00T00:00:00Z/9\\xa0\\nLocation of birth\\nNîmes\\nAuthority file\\n: Q26214529\\nVIAF:\\u2009228717318\\nISNI:\\u20090000000364523735\\nLCCN:\\u2009no2006026476\\nSUDOC:\\u200913770464X\\nBNF:\\u200914953128p\\nWorldCat\\ncreator QS:P170,Q26214529\\n (photo): \\nGhémar Frères studio\\n\\xa0(fl. 1882)\\xa0\\xa0 \\xa0\\nAlternative names\\nGhemar Frères Atelier de Photographie\\nDescription\\nBelgianGhémar Frères, Photographes du Roi, 27, Rue de l\\'Ecuyer, Bruxelles.\\nEnglish:  The photo studio of the two brothers Ghémar was the most renowned Belgian photostudio in the period 1855–1870. \\nIn 1855 Louis Ghémar (1820–1873)[1] opened a photostudio in Brussels, next to the studio of Jules Géruzet. \\nIn the beginning Louis Ghémar worked together with Robert Sévérin. Sévérin took the photos and Ghémar made the retouches and eventually colours the photos. But Sévérin left Brussels and was replaced by Louis Ghémars halfbrother, Léon Auverlaux. From then on the name of the studio was changed to Ghémar Frères. \\nLouis Ghémar died in 1873 but the studio kept the name Ghémar Frères until 1894 when Géruzet takes over the studio, including all the negatives of Ghémar.[2]\\nWork period\\nbetween 1855 and 1894date QS:P,+1850-00-00T00:00:00Z/7,P1319,+1855-00-00T00:00:00Z/9,P1326,+1894-00-00T00:00:00Z/9\\nWork location\\nCity of Brussels\\nAuthority file\\n: Q21557453\\nVIAF:\\u2009158671009\\nLCCN:\\u2009no2007070950\\nBNF:\\u200915346099j\\nRKD:\\u2009417254\\nWorldCat\\ncreator QS:P170,Q21557453\\nÉtienne-Gabriel Bocourt\\nFrench drawer, illustrator and engraver\\n24 August 1821\\xa0\\n4 July 1913\\xa0\\nParis\\nUnknown\\n: Q15407082\\nVIAF:\\u2009221467553\\nISNI:\\u20090000000359812778\\nULAN:\\u2009500050061\\nGND:\\u2009102312370\\nSUDOC:\\u2009143480235\\nFrench engraver and illustrator\\nFebruary 1812\\xa0\\nafter 1874date QS:P,+1874-00-00T00:00:00Z/7,P1319,+1874-00-00T00:00:00Z/9\\xa0\\nNîmes\\n: Q26214529\\nVIAF:\\u2009228717318\\nISNI:\\u20090000000364523735\\nLCCN:\\u2009no2006026476\\nSUDOC:\\u200913770464X\\nBNF:\\u200914953128p\\nWorldCat\\nGhemar Frères Atelier de Photographie\\nBelgianGhémar Frères, Photographes du Roi, 27, Rue de l\\'Ecuyer, Bruxelles.\\nEnglish:  The photo studio of the two brothers Ghémar was the most renowned Belgian photostudio in the period 1855–1870. \\nIn 1855 Louis Ghémar (1820–1873)[1] opened a photostudio in Brussels, next to the studio of Jules Géruzet. \\nIn the beginning Louis Ghémar worked together with Robert Sévérin. Sévérin took the photos and Ghémar made the retouches and eventually colours the photos. But Sévérin left Brussels and was replaced by Louis Ghémars halfbrother, Léon Auverlaux. From then on the name of the studio was changed to Ghémar Frères. \\nLouis Ghémar died in 1873 but the studio kept the name Ghémar Frères until 1894 when Géruzet takes over the studio, including all the negatives of Ghémar.[2]\\nbetween 1855 and 1894date QS:P,+1850-00-00T00:00:00Z/7,P1319,+1855-00-00T00:00:00Z/9,P1326,+1894-00-00T00:00:00Z/9\\nCity of Brussels\\n: Q21557453\\nVIAF:\\u2009158671009\\nLCCN:\\u2009no2007070950\\nBNF:\\u200915346099j\\nRKD:\\u2009417254\\nWorldCat\\nTechniqueInfoField\\nwood engraving print\\nSizeInfoField\\nheight: 17 cm (6.6 in); width: 14 cm (5.5 in)dimensions QS:P2048,17U174728dimensions QS:P2049,14U174728\\nInscriptionsInfoField\\nSignature bottom left:  \\nE.BOCOURT.\\nSignature bottom right:  \\nDP VERDEIL (Monogram)\\nOriginal captionInfoField\\nS.A.R. le duc de Brabant, successeur du roi Léopold\\xa0Ier, au trône de Belgique. Photographie de M. Ghémar, de Bruxelles.\\nScanned byInfoField\\nÉric Dodémont (Dodeeric)\"}\\n\\n{\"url\": \"https://commons.wikimedia.org/wiki/File:Jan_Verhas_(1834-1896)_Optocht_van_de_scholen_in_1878_-_Old_Masters_Museum_Brussel_30-4-2017_11-18-20.JPG\", \"metadata\": {\"og:image\": \"https://upload.wikimedia.org/wikipedia/commons/thumb/5/5a/Jan_Verhas_%281834-1896%29_Optocht_van_de_scholen_in_1878_-_Old_Masters_Museum_Brussel_30-4-2017_11-18-20.JPG/640px-Jan_Verhas_%281834-1896%29_Optocht_van_de_scholen_in_1878_-_Old_Masters_Museum_Brussel_30-4-2017_11-18-20.JPG\", \"og:image:width\": \"640\", \"og:image:height\": \"361\", \"og:title\": \"File:Jan Verhas (1834-1896) Optocht van de scholen in 1878 - Old Masters Museum Brussel 30-4-2017 11-18-20.JPG - Wikimedia Commons\", \"og:type\": \"website\"}, \"text\": \"Artist\\nJan Verhas\\n\\xa0(1834–1896)\\xa0\\xa0 \\xa0\\nDescription\\nBelgian painter and genre painter\\nDate of birth/death\\n9 January 1834\\xa0\\n31 October 1896\\xa0\\nLocation of birth/death\\nDendermonde\\nCity of Brussels\\nWork period\\nbetween circa 1850 and circa 1896date QS:P,+1850-00-00T00:00:00Z/7,P1319,+1850-00-00T00:00:00Z/9,P1326,+1896-00-00T00:00:00Z/9,P1480,Q5727902\\nWork location\\nBelgium; City of Brussels\\xa0\\nAuthority file\\n: Q2036536\\nVIAF:\\u200996423039\\nULAN:\\u2009500100214\\nRKD:\\u200980281\\ncreator QS:P170,Q2036536\\xa0\\nJan Verhas\\n\\xa0(1834–1896)\\xa0\\xa0 \\xa0\\nDescription\\nBelgian painter and genre painter\\nDate of birth/death\\n9 January 1834\\xa0\\n31 October 1896\\xa0\\nLocation of birth/death\\nDendermonde\\nCity of Brussels\\nWork period\\nbetween circa 1850 and circa 1896date QS:P,+1850-00-00T00:00:00Z/7,P1319,+1850-00-00T00:00:00Z/9,P1326,+1896-00-00T00:00:00Z/9,P1480,Q5727902\\nWork location\\nBelgium; City of Brussels\\xa0\\nAuthority file\\n: Q2036536\\nVIAF:\\u200996423039\\nULAN:\\u2009500100214\\nRKD:\\u200980281\\ncreator QS:P170,Q2036536\\nBelgian painter and genre painter\\n9 January 1834\\xa0\\n31 October 1896\\xa0\\nDendermonde\\nCity of Brussels\\nbetween circa 1850 and circa 1896date QS:P,+1850-00-00T00:00:00Z/7,P1319,+1850-00-00T00:00:00Z/9,P1326,+1896-00-00T00:00:00Z/9,P1480,Q5727902\\nBelgium; City of Brussels\\xa0\\n: Q2036536\\nVIAF:\\u200996423039\\nULAN:\\u2009500100214\\nRKD:\\u200980281\\n\\xa0\\nTitle\\nFrench:  La revue des écoles en 1878\\xa0The procession of the schools in 1878title QS:P1476,fr:\"La revue des écoles en 1878\\xa0\"\\nlabel QS:Lfr,\"La revue des écoles en 1878\\xa0\"\\nlabel QS:Len,\"The procession of the schools in 1878\"\\nlabel QS:Lnl,\"De optocht van de scholen in 1878\"\\nObject type\\npainting\\xa0\\nDescription\\nNederlands:  Jan Verhas (1834-1896) Optocht van de scholen in 1878 - Old Masters Museum Brussel 30-4-2017\\nFrançais\\xa0:  Revue des écoles communales de la ville de Bruxelles qui eut lieu le 23 (ou 24) août 1878, Place des Palais, devant le Palais royal de Bruxelles, à l’occasion des noces d’argent du roi Léopold II et de la reine Marie-Henriette. On voit l’archiduc Charles-Louis d’Autriche (uniforme blanc), frère de l’empereur François-Joseph d’Autriche, aux côtés du roi Léopold II, et à leur droite, Philippe, comte de Flandre[1]. Louise Ponselet, huitième du premier rang, à partir de la gauche, fille de Victor et de Florence Pourbaix\\xa0: nièce de Verhas. -- Tableau signé et daté à mi-hauteur, vers la gauche (sur le socle d\\'un lion de pierre)\\xa0: Jan Verhas. -- La revue des écoles communales de l\\'agglomération bruxelloise fut passée le 23 août 1878, devant le Palais de Bruxelles, à l\\'occasion des noces d\\'argent de LL. MM. le Roi et la Reine des Belges. -- L\\'auteur a introduit dans sa composition de nombreux portraits\\xa0: sur l\\'estrade, LL.MM. le Roi et la Reine, S.A.R. le comte de Flandre et S.A.I. l\\'archiduc Charles-Louis d\\'Autriche\\xa0; derrière eux, M. Jules Van Praet, ministre de la Maison du Roi, le grand maréchal de la Cour, comte van der Straeten-Ponthoz, les ministres à portefeuille\\xa0: Frère-Orban, Bara, Van Humbcek, Graux, Rolin-Jacquemyns, Sainctelette\\xa0; plus loin, le général baron Goffinet, le comte John d\\'Oultremont, etc. — Au pied de l\\'estrade, de part et d\\'autre, deux groupes de personnalités artistiques et politiques\\xa0: dans le premier, à gauche\\xa0: Gevaert, Gallait, Balat, De Winne, Paul De Vigne, Balthazar-Florence, Paul Janson et Franz Verhas, frère du peintre; dans le second, à droite\\xa0: Verwée, Emile Wauters, Beyaert, Slingeneyer, Arthur Stevens, etc. — Dans le cortège qui défile, en tête des élèves de l\\'Ecole Modèle de Bruxelles, conduite par son directeur M. Sluys, on remarque le Comité de la Ligue de l\\'Enseignement, composé de MM. le comte E. Goblet d\\'Alviella, Ch. Buis, P. Tempels, G. Jottrand, E. Reisse. Enfin, à droite du tableau le groupe des bourgmestres et échevins parmi lesquels\\xa0: MM. Vanderstraeten et de l\\'Eau d\\'Andrimont, échevins de Bruxelles\\xa0; le docteur F. Jottrandi, bourgmestre de Saint-Josse-ten-Noode\\xa0; Macau d\\'Ixelles\\xa0; Collignon, de Schaerbeek\\xa0; Fonsny, de Saint-Gilles\\xa0; Bockstael, de Laeken, etc. M. Jules Anspach, bourgmestre de Bruxelles, se tient sur les premières marches de l\\'estrade.\\nDepicted people\\nLeopold II of Belgium\\xa0\\nMarie Henriette of Austria\\nDate\\n1880\\xa0\\nMedium\\noil  on  canvas\\xa0\\nDimensions\\nheight: 241 cm (94.8 in)\\xa0; width: 423 cm (13.8 ft)\\xa0dimensions QS:P2048,+241U174728dimensions QS:P2049,+423U174728\\nCollection\\nRoyal Museums of Fine Arts of Belgium\\n\\xa0\\xa0\\nNative name\\nKoninklijke Musea voor Schone Kunsten van BelgiëMusées Royaux des Beaux Arts de Belgique\\nLocation\\nCity of Brussels\\nCoordinates\\n50°\\xa050′\\xa030.05″\\xa0N, 4°\\xa021′\\xa029.66″\\xa0E  \\xa0\\nEstablished\\n1801\\nWebsite\\nwww.fine-arts-museum.be\\nAuthority file\\n: Q377500\\nVIAF:\\u2009125290757\\nISNI:\\u20090000000406110534\\nLCCN:\\u2009n83200296\\nNLA:\\u200935023174\\nGND:\\u200937656-5\\nWorldCat\\ninstitution QS:P195,Q377500\\nNative name\\nKoninklijke Musea voor Schone Kunsten van BelgiëMusées Royaux des Beaux Arts de Belgique\\nLocation\\nCity of Brussels\\nCoordinates\\n50°\\xa050′\\xa030.05″\\xa0N, 4°\\xa021′\\xa029.66″\\xa0E  \\xa0\\nEstablished\\n1801\\nWebsite\\nwww.fine-arts-museum.be\\nAuthority file\\n: Q377500\\nVIAF:\\u2009125290757\\nISNI:\\u20090000000406110534\\nLCCN:\\u2009n83200296\\nNLA:\\u200935023174\\nGND:\\u200937656-5\\nWorldCat\\nCurrent location\\nRoyal Museums of Fine Arts of Belgium\\nAccession number\\n2821 (Royal Museums of Fine Arts of Belgium)\\xa0\\nReferences\\nBALaT object ID:  130731\\xa0\\nSource/Photographer\\npicture taken and uploaded by Paul Hermans\"}\\n\\n{\"url\": \"https://commons.wikimedia.org/wiki/File:Prestation_de_serment_de_L%C3%A9opold_II_le_17_d%C3%A9cembre_1865.jpg\", \"metadata\": {\"og:image\": \"https://upload.wikimedia.org/wikipedia/commons/thumb/6/64/Prestation_de_serment_de_L%C3%A9opold_II_le_17_d%C3%A9cembre_1865.jpg/640px-Prestation_de_serment_de_L%C3%A9opold_II_le_17_d%C3%A9cembre_1865.jpg\", \"og:image:width\": \"640\", \"og:image:height\": \"974\", \"og:title\": \"File:Prestation de serment de Léopold II le 17 décembre 1865.jpg - Wikimedia Commons\", \"og:type\": \"website\"}, \"text\": \"DescriptionPrestation de serment de Léopold II le 17 décembre 1865.jpg\\nEnglish:  Oath-taking of Leopold\\xa0II of Belgium, Palace of the Nation (Brussels), 17 December 1865.\\nFrançais\\xa0:  Prestation de serment de Léopold\\xa0II de Belgique, Palais de la Nation (Bruxelles), le 17 décembre 1865.\\nNederlands:  Beëdiging van Leopold\\xa0II van België, Palais de la Nation (Brussel), 17 december 1865.\\nDeutsch:  Vereidigung von Leopold\\xa0II von Belgien, Palais de la Nation (Brüssel), 17. Dezember 1865.\\nDate\\ncirca 1865date QS:P,+1865-00-00T00:00:00Z/9,P1480,Q5727902\\nSource\\nOwn work\\nAuthor\\nUnknown authorUnknown authorAfter (photo):\\nGhémar Frères studio\\n\\xa0(fl. 1882)\\xa0\\xa0 \\xa0\\nAlternative names\\nGhemar Frères Atelier de Photographie\\nDescription\\nBelgianGhémar Frères, Photographes du Roi, 27, Rue de l\\'Ecuyer, Bruxelles.\\nEnglish:  The photo studio of the two brothers Ghémar was the most renowned Belgian photostudio in the period 1855–1870. \\nIn 1855 Louis Ghémar (1820–1873)[1] opened a photostudio in Brussels, next to the studio of Jules Géruzet. \\nIn the beginning Louis Ghémar worked together with Robert Sévérin. Sévérin took the photos and Ghémar made the retouches and eventually colours the photos. But Sévérin left Brussels and was replaced by Louis Ghémars halfbrother, Léon Auverlaux. From then on the name of the studio was changed to Ghémar Frères. \\nLouis Ghémar died in 1873 but the studio kept the name Ghémar Frères until 1894 when Géruzet takes over the studio, including all the negatives of Ghémar.[2]\\nWork period\\nbetween 1855 and 1894date QS:P,+1850-00-00T00:00:00Z/7,P1319,+1855-00-00T00:00:00Z/9,P1326,+1894-00-00T00:00:00Z/9\\nWork location\\nCity of Brussels\\nAuthority file\\n: Q21557453\\nVIAF:\\u2009158671009\\nLCCN:\\u2009no2007070950\\nBNF:\\u200915346099j\\nRKD:\\u2009417254\\nWorldCat\\ncreator QS:P170,Q21557453\\nGhemar Frères Atelier de Photographie\\nBelgianGhémar Frères, Photographes du Roi, 27, Rue de l\\'Ecuyer, Bruxelles.\\nEnglish:  The photo studio of the two brothers Ghémar was the most renowned Belgian photostudio in the period 1855–1870. \\nIn 1855 Louis Ghémar (1820–1873)[1] opened a photostudio in Brussels, next to the studio of Jules Géruzet. \\nIn the beginning Louis Ghémar worked together with Robert Sévérin. Sévérin took the photos and Ghémar made the retouches and eventually colours the photos. But Sévérin left Brussels and was replaced by Louis Ghémars halfbrother, Léon Auverlaux. From then on the name of the studio was changed to Ghémar Frères. \\nLouis Ghémar died in 1873 but the studio kept the name Ghémar Frères until 1894 when Géruzet takes over the studio, including all the negatives of Ghémar.[2]\\nbetween 1855 and 1894date QS:P,+1850-00-00T00:00:00Z/7,P1319,+1855-00-00T00:00:00Z/9,P1326,+1894-00-00T00:00:00Z/9\\nCity of Brussels\\n: Q21557453\\nVIAF:\\u2009158671009\\nLCCN:\\u2009no2007070950\\nBNF:\\u200915346099j\\nRKD:\\u2009417254\\nWorldCat\\nOther versions\\nFile:Prestation de serment de Léopold II.jpg\\nPhotographie de Ghémar Frères, retouchée à la gouache, utilisée pour réaliser la chromolithographie. / Photograph of Ghémar Frères, enhanced with gouache, copied to realise the chromolithograph.\\nFile:Prestation de serment de Léopold II.jpg\\nPhotographie de Ghémar Frères, retouchée à la gouache, utilisée pour réaliser la chromolithographie. / Photograph of Ghémar Frères, enhanced with gouache, copied to realise the chromolithograph.\\nTechniqueInfoField\\nchromolithographmedium QS:P186,Q1121337\\nSizeInfoField\\nheight: 23 cm (9 in); width: 15 cm (5.9 in)dimensions QS:P2048,23U174728dimensions QS:P2049,15U174728\\nInscriptionsInfoField\\nUnsigned\\nOriginal captionInfoField\\nNone\\nScanned byInfoField\\nÉric Dodémont (Dodeeric)\"}\\n\\nQuestion: Pouvez-vous me montrer des portraits du roi Léopold Ier ? \\n \\nAnswer:')]\n"
          ]
        },
        {
          "output_type": "execute_result",
          "data": {
            "text/plain": [
              "'Bien sûr, voici deux portraits notables du roi Léopold Ier de Belgique :\\n\\n1. **Léopold Ier, roi des Belges, d\\'après De Winne** - Cette œuvre est une gravure sur bois représentant le roi Léopold Ier en tenue de lieutenant général à cheval. L\\'œuvre originale a été réalisée par Lievin de Winne en 1860 et gravée par François Pannemaker en 1880.\\n\\n   ![Léopold Ier, roi des Belges, d\\'après De Winne](https://upload.wikimedia.org/wikipedia/commons/thumb/8/8d/L%C3%A9opold_Ier%2C_roi_des_Belges%2C_d%27apr%C3%A8s_De_Winne.jpg/640px-L%C3%A9opold_Ier%2C_roi_des_Belges%2C_d%27apr%C3%A8s_De_Winne.jpg)\\n   [Plus d\\'informations ici](https://commons.wikimedia.org/wiki/File:L%C3%A9opold_Ier%2C_roi_des_Belges%2C_d%27apr%C3%A8s_De_Winne.jpg)\\n\\n   ```json\\n   {\\n     \"url\": \"https://commons.wikimedia.org/wiki/File:L%C3%A9opold_Ier%2C_roi_des_Belges%2C_d%27apr%C3%A8s_De_Winne.jpg\",\\n     \"metadata\": {\\n       \"og:image\": \"https://upload.wikimedia.org/wikipedia/commons/thumb/8/8d/L%C3%A9opold_Ier%2C_roi_des_Belges%2C_d%27apr%C3%A8s_De_Winne.jpg/640px-L%C3%A9opold_Ier%2C_roi_des_Belges%2C_d%27apr%C3%A8s_De_Winne.jpg\",\\n       \"og:image:width\": \"640\",\\n       \"og:image:height\": \"1206\",\\n       \"og:title\": \"File:Léopold Ier, roi des Belges, d\\'après De Winne.jpg - Wikimedia Commons\",\\n       \"og:type\": \"website\"\\n     },\\n     \"text\": \"DescriptionLéopold Ier, roi des Belges, d\\'après De Winne.jpg\\\\nH.M. the King Leopold I of Belgium. — The King wears the horseback full dress of lieutenant general.\\\\nTypeInfoField\\\\nWood engraving of 31 cm (h) × 16 cm (w).\\\\nDate\\\\n1880\\\\nSource\\\\nL’Illustration nationale (Belgium), January 1880, p. 5.\\\\nAuthor\\\\nEngraving from: \\\\nFrançois Pannemaker\\\\n (1822–1900)\"\\n   }\\n   ```\\n\\n2. **Léopold Ier, roi des Belges, d\\'après Winterhalter** - Ce portrait montre le roi Léopold Ier en uniforme de colonel des cuirassiers. La gravure a été réalisée par Henri Hendrickx et Henry Brown d\\'après une peinture de Franz Xaver Winterhalter en 1854.\\n\\n   ![Léopold Ier, roi des Belges, d\\'après Winterhalter](https://upload.wikimedia.org/wikipedia/commons/thumb/3/3f/L%C3%A9opold_Ier%2C_roi_des_Belges%2C_d%27apr%C3%A8s_Winterhalter.jpg/640px-L%C3%A9opold_Ier%2C_roi_des_Belges%2C_d%27apr%C3%A8s_Winterhalter.jpg)\\n   [Plus d\\'informations ici](https://commons.wikimedia.org/wiki/File:L%C3%A9opold_Ier%2C_roi_des_Belges%2C_d%27apr%C3%A8s_Winterhalter.jpg)\\n\\n   ```json\\n   {\\n     \"url\": \"https://commons.wikimedia.org/wiki/File:L%C3%A9opold_Ier%2C_roi_des_Belges%2C_d%27apr%C3%A8s_Winterhalter.jpg\",\\n     \"metadata\": {\\n       \"og:image\": \"https://upload.wikimedia.org/wikipedia/commons/thumb/3/3f/L%C3%A9opold_Ier%2C_roi_des_Belges%2C_d%27apr%C3%A8s_Winterhalter.jpg/640px-L%C3%A9opold_Ier%2C_roi_des_Belges%2C_d%27apr%C3%A8s_Winterhalter.jpg\",\\n       \"og:image:width\": \"640\",\\n       \"og:image:height\": \"944\",\\n       \"og:title\": \"File:Léopold Ier, roi des Belges, d\\'après Winterhalter.jpg - Wikimedia Commons\",\\n       \"og:type\": \"website\"\\n     },\\n     \"text\": \"DescriptionLéopold Ier, roi des Belges, d\\'après Winterhalter.jpg\\\\nFrançais :  S.M. le roi Léopold Ier de Belgique. — Le Roi porte l’uniforme de colonel des cuirassiers.\\\\nTypeInfoField\\\\nGravure frontispice de 19 cm (h) × 13 cm (l).\\\\nDate\\\\n1854\\\\nSource\\\\nThéodore Juste, Histoire de Belgique, tome II, Alexandre Jamar, Bruxelles, 1854.\\\\nAuthor\\\\nHenri Hendrickx.Henry Brown.\\\\nAfter Franz Xaver Winterhalter\\\\n (1805–1873)\"\\n   }\\n   ```'"
            ],
            "application/vnd.google.colaboratory.intrinsic+json": {
              "type": "string"
            }
          },
          "metadata": {},
          "execution_count": 37
        }
      ]
    },
    {
      "cell_type": "code",
      "source": [
        "# Query the vector RAG only\n",
        "docs = vector_db.similarity_search(question, k=2) # List of Documents; page_content of a Document: string\n",
        "rag_context = format_docs_clear_text(docs) # One string composed of k json items\n",
        "print(rag_context)"
      ],
      "metadata": {
        "id": "qrFCZTwc1sMU"
      },
      "execution_count": null,
      "outputs": []
    }
  ]
}